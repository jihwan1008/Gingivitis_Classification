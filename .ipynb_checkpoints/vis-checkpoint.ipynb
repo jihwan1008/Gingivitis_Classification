{
 "cells": [
  {
   "cell_type": "code",
   "execution_count": 1,
   "metadata": {},
   "outputs": [],
   "source": [
    "import torch\n",
    "import torchvision\n",
    "import torchvision.transforms as transforms\n",
    "import numpy as np\n",
    "import os\n",
    "import sys\n",
    "import shutil\n",
    "import argparse\n",
    "import matplotlib.pyplot as plt\n",
    "from PIL import Image"
   ]
  },
  {
   "cell_type": "code",
   "execution_count": 2,
   "metadata": {},
   "outputs": [],
   "source": [
    "transforms_same = transforms.Compose([\n",
    "    transforms.Pad(padding=(50,50), padding_mode='edge'),\n",
    "    transforms.Resize((224, 224)),\n",
    "    transforms.ToTensor(),\n",
    "    ])\n",
    "\n",
    "transforms_colorjitter = transforms.Compose([\n",
    "    transforms.Pad(padding=(50,50), padding_mode='edge'),\n",
    "    transforms.Resize((224, 224)),\n",
    "    transforms.ColorJitter(0.3, 0.3, 0.3, 0.3),\n",
    "    transforms.ToTensor(),\n",
    "    ])\n",
    "\n",
    "transforms_colorjitter2 = transforms.Compose([\n",
    "    transforms.Pad(padding=(50,50), padding_mode='edge'),\n",
    "    transforms.Resize((224, 224)),\n",
    "    transforms.ColorJitter(0.2, 0.2, 0.2, 0.2),\n",
    "    transforms.ToTensor(),\n",
    "    ])\n",
    "\n",
    "transforms_colorjitter3 = transforms.Compose([\n",
    "    transforms.Pad(padding=(50,50), padding_mode='edge'),\n",
    "    transforms.Resize((224, 224)),\n",
    "    transforms.ColorJitter(0.1, 0.1, 0.1, 0.1),\n",
    "    transforms.ToTensor(),\n",
    "    ])\n",
    "\n",
    "transforms_affine = transforms.Compose([\n",
    "    transforms.Pad(padding=(50,50), padding_mode='edge'),\n",
    "    transforms.Resize((224, 224)),\n",
    "    transforms.RandomAffine(degrees=5, translate=(0.1, 0.1)),\n",
    "    transforms.ToTensor(),\n",
    "    ])\n",
    "\n",
    "transforms_gray = transforms.Compose([\n",
    "    transforms.Pad(padding=(50,50), padding_mode='edge'),\n",
    "    transforms.Resize((224, 224)),\n",
    "    transforms.Grayscale(3),\n",
    "    transforms.ToTensor(),\n",
    "    ])\n",
    "\n",
    "transforms_gaussian = transforms.Compose([\n",
    "    transforms.Pad(padding=(50,50), padding_mode='edge'),\n",
    "    transforms.Resize((224, 224)),\n",
    "    transforms.GaussianBlur((21, 21)),\n",
    "    transforms.ToTensor(),\n",
    "    ])\n",
    "\n",
    "dataset = torchvision.datasets.ImageFolder(root=os.getcwd() + '/data', transform=transforms_same)\n",
    "dataloader = torch.utils.data.DataLoader(dataset, batch_size=1, shuffle=True)\n",
    "\n",
    "dataset_color = torchvision.datasets.ImageFolder(root=os.getcwd() + '/data', transform=transforms_colorjitter)\n",
    "dataloader_color = torch.utils.data.DataLoader(dataset_color, batch_size=1, shuffle=True)\n",
    "\n",
    "dataset_color2 = torchvision.datasets.ImageFolder(root=os.getcwd() + '/data', transform=transforms_colorjitter2)\n",
    "dataloader_color2 = torch.utils.data.DataLoader(dataset_color2, batch_size=1, shuffle=True)\n",
    "\n",
    "dataset_color3 = torchvision.datasets.ImageFolder(root=os.getcwd() + '/data', transform=transforms_colorjitter3)\n",
    "dataloader_color3 = torch.utils.data.DataLoader(dataset_color3, batch_size=1, shuffle=True)\n",
    "\n",
    "dataset_affine = torchvision.datasets.ImageFolder(root=os.getcwd() + '/data', transform=transforms_affine)\n",
    "dataloader_affine = torch.utils.data.DataLoader(dataset_affine, batch_size=1, shuffle=True)\n",
    "\n",
    "dataset_gray = torchvision.datasets.ImageFolder(root=os.getcwd() + '/data', transform=transforms_gray)\n",
    "dataloader_gray = torch.utils.data.DataLoader(dataset_gray, batch_size=1, shuffle=True)\n",
    "\n",
    "dataset_gaussian = torchvision.datasets.ImageFolder(root=os.getcwd() + '/data', transform=transforms_gaussian)\n",
    "dataloader_gaussian = torch.utils.data.DataLoader(dataset_gaussian, batch_size=1, shuffle=True)"
   ]
  },
  {
   "cell_type": "code",
   "execution_count": 3,
   "metadata": {},
   "outputs": [],
   "source": [
    "def imsave(img, lbl, flag, i):\n",
    "    #img = img / 2 + 0.5     # unnormalize\n",
    "    npimg = img[0].numpy()\n",
    "    #print(npimg)\n",
    "    new_image = np.transpose(npimg, (1, 2, 0))\n",
    "    #im = Image.fromarray(new_image)\n",
    "    index = str()\n",
    "    \n",
    "    if int(i) < 10:\n",
    "        index = '0' + str(i)\n",
    "    else:\n",
    "        index = str(i)\n",
    "    \n",
    "    \n",
    "    if os.path.exists(os.getcwd() + '/Gingivitis_True_' + flag):\n",
    "        pass\n",
    "    else:\n",
    "        os.makedirs(os.getcwd() + '/Gingivitis_True_' + flag)\n",
    "        \n",
    "    if os.path.exists(os.getcwd() + '/Gingivitis_False_' + flag):\n",
    "        pass\n",
    "    else:\n",
    "        os.makedirs(os.getcwd() + '/Gingivitis_False_' + flag)\n",
    "    \n",
    "    if int(lbl.numpy()[0]) == 1: #Gingivitis_True\n",
    "        plt.imsave(os.getcwd() + '/Gingivitis_True_' + flag + '/' + 'image_' + index + '.jpg', new_image)\n",
    "        #im.save(os.getcwd() + '/Gingivitis_True_' + flag + '/' + 'image_' + index + '.jpg')\n",
    "    else:\n",
    "        plt.imsave(os.getcwd() + '/Gingivitis_False_' + flag + '/' + 'image_' + index + '.jpg', new_image)\n",
    "        #im.save(os.getcwd() + '/Gingivitis_False_' + flag + '/' + 'image_' + index + '.jpg')"
   ]
  },
  {
   "cell_type": "code",
   "execution_count": 4,
   "metadata": {},
   "outputs": [],
   "source": [
    "for i, item in enumerate(dataloader_color):\n",
    "    image, label = item\n",
    "    #print(label)\n",
    "    imsave(image, label, 'color', i)"
   ]
  },
  {
   "cell_type": "code",
   "execution_count": 5,
   "metadata": {},
   "outputs": [],
   "source": [
    "for i, item in enumerate(dataloader_color2):\n",
    "    image, label = item\n",
    "    #print(label)\n",
    "    imsave(image, label, 'color2', i)"
   ]
  },
  {
   "cell_type": "code",
   "execution_count": 6,
   "metadata": {},
   "outputs": [],
   "source": [
    "for i, item in enumerate(dataloader_color3):\n",
    "    image, label = item\n",
    "    #print(label)\n",
    "    imsave(image, label, 'color3', i)"
   ]
  },
  {
   "cell_type": "code",
   "execution_count": 7,
   "metadata": {},
   "outputs": [],
   "source": [
    "for i, item in enumerate(dataloader_affine):\n",
    "    image, label = item\n",
    "    #print(label)\n",
    "    imsave(image, label, 'affine', i)"
   ]
  },
  {
   "cell_type": "code",
   "execution_count": 8,
   "metadata": {},
   "outputs": [],
   "source": [
    "for i, item in enumerate(dataloader_gray):\n",
    "    image, label = item\n",
    "    #print(label)\n",
    "    imsave(image, label, 'gray', i)"
   ]
  },
  {
   "cell_type": "code",
   "execution_count": 9,
   "metadata": {},
   "outputs": [],
   "source": [
    "for i, item in enumerate(dataloader_gaussian):\n",
    "    image, label = item\n",
    "    #print(label)\n",
    "    imsave(image, label, 'gaussian', i)"
   ]
  },
  {
   "cell_type": "code",
   "execution_count": 10,
   "metadata": {},
   "outputs": [],
   "source": [
    "for i, item in enumerate(dataloader):\n",
    "    image, label = item\n",
    "    #print(label)\n",
    "    imsave(image, label, 'same', i)"
   ]
  }
 ],
 "metadata": {
  "kernelspec": {
   "display_name": "torch",
   "language": "python",
   "name": "torch"
  },
  "language_info": {
   "codemirror_mode": {
    "name": "ipython",
    "version": 3
   },
   "file_extension": ".py",
   "mimetype": "text/x-python",
   "name": "python",
   "nbconvert_exporter": "python",
   "pygments_lexer": "ipython3",
   "version": "3.6.9"
  }
 },
 "nbformat": 4,
 "nbformat_minor": 4
}
